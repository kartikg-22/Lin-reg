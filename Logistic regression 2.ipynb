{
 "cells": [
  {
   "cell_type": "code",
   "execution_count": 1,
   "id": "abada843",
   "metadata": {},
   "outputs": [],
   "source": [
    "#importing libraries\n",
    "import numpy as np\n",
    "import pandas as pd"
   ]
  },
  {
   "cell_type": "code",
   "execution_count": 2,
   "id": "809c9dee",
   "metadata": {},
   "outputs": [
    {
     "data": {
      "text/plain": [
       "(1096, 5)"
      ]
     },
     "execution_count": 2,
     "metadata": {},
     "output_type": "execute_result"
    }
   ],
   "source": [
    "df = pd.read_csv(\"BankNote.csv\")\n",
    "df.shape"
   ]
  },
  {
   "cell_type": "code",
   "execution_count": 3,
   "id": "e57e15f7",
   "metadata": {},
   "outputs": [
    {
     "name": "stdout",
     "output_type": "stream",
     "text": [
      "<class 'pandas.core.frame.DataFrame'>\n",
      "RangeIndex: 1096 entries, 0 to 1095\n",
      "Data columns (total 5 columns):\n",
      " #   Column  Non-Null Count  Dtype  \n",
      "---  ------  --------------  -----  \n",
      " 0   VWTI    1096 non-null   float64\n",
      " 1   SWTI    1096 non-null   float64\n",
      " 2   CWTI    1096 non-null   float64\n",
      " 3   EI      1096 non-null   float64\n",
      " 4   Class   1096 non-null   int64  \n",
      "dtypes: float64(4), int64(1)\n",
      "memory usage: 42.9 KB\n"
     ]
    },
    {
     "data": {
      "text/plain": [
       "VWTI     0\n",
       "SWTI     0\n",
       "CWTI     0\n",
       "EI       0\n",
       "Class    0\n",
       "dtype: int64"
      ]
     },
     "execution_count": 3,
     "metadata": {},
     "output_type": "execute_result"
    }
   ],
   "source": [
    "df.info()\n",
    "df.isnull().sum()\n",
    "#Since no missing value, no need of preprocessing"
   ]
  },
  {
   "cell_type": "code",
   "execution_count": 4,
   "id": "f1c00b20",
   "metadata": {},
   "outputs": [],
   "source": [
    "split_point = int(0.8 * len(df))\n",
    "train_data = df[:split_point]\n",
    "test_data = df[split_point:]"
   ]
  },
  {
   "cell_type": "code",
   "execution_count": 5,
   "id": "e2f13b5a",
   "metadata": {},
   "outputs": [
    {
     "name": "stdout",
     "output_type": "stream",
     "text": [
      "(876, 4)\n",
      "(876,)\n"
     ]
    }
   ],
   "source": [
    "#Dividing the dataset into 80-20\n",
    "X_train = train_data[[\"VWTI\", \"SWTI\", \"CWTI\", 'EI']]\n",
    "Y_train = train_data[\"Class\"]\n",
    "X_test = test_data[[\"VWTI\", \"SWTI\", \"CWTI\", 'EI']]\n",
    "Y_test = test_data[\"Class\"]\n",
    "\n",
    "print(X_train.shape)\n",
    "print(Y_train.shape)"
   ]
  },
  {
   "cell_type": "code",
   "execution_count": 6,
   "id": "1091706b",
   "metadata": {},
   "outputs": [
    {
     "name": "stdout",
     "output_type": "stream",
     "text": [
      "         VWTI      SWTI      CWTI        EI\n",
      "0    0.657954 -1.012239  0.452235  0.298930\n",
      "1    1.005168  0.012569  0.112062  0.875660\n",
      "2   -1.478392 -2.384066  2.529880 -0.971344\n",
      "3    0.057491 -0.812358  0.327120  0.123731\n",
      "4    0.763454 -0.999392  0.966968  0.623798\n",
      "..        ...       ...       ...       ...\n",
      "871  1.311167  1.554857 -1.153826 -1.333326\n",
      "872  1.193823  1.191265 -1.323813 -1.310179\n",
      "873 -0.689998 -1.668046  1.657742  1.169499\n",
      "874  0.923048 -0.702765  0.156735  0.729654\n",
      "875  0.370170  1.091495 -0.819309 -0.338651\n",
      "\n",
      "[876 rows x 4 columns]\n",
      "          VWTI      SWTI      CWTI        EI\n",
      "876  -0.102867 -0.211592 -0.896259  0.421636\n",
      "877   0.544818 -1.422919  0.882849 -0.240501\n",
      "878  -1.185864 -0.428639  0.482020  0.684151\n",
      "879  -1.068011 -1.784403  1.220745  0.356181\n",
      "880   1.433277 -1.287466  0.580730  0.427148\n",
      "...        ...       ...       ...       ...\n",
      "1091  0.310531  0.290648  0.098157  0.230776\n",
      "1092 -0.336858 -0.725248  2.016847  0.827464\n",
      "1093  0.809508  1.051964 -0.545135 -0.046206\n",
      "1094  0.434786  0.958941 -0.123867  0.778544\n",
      "1095 -0.366851  1.626012 -1.286410 -2.835337\n",
      "\n",
      "[220 rows x 4 columns]\n"
     ]
    }
   ],
   "source": [
    "#Scaling both the training and testing input\n",
    "X_train = (X_train - X_train.mean())/X_train.std()\n",
    "X_test = (X_test - X_test.mean())/X_test.std()\n",
    "print(X_train)\n",
    "print(X_test)"
   ]
  },
  {
   "cell_type": "code",
   "execution_count": 7,
   "id": "bef9f44e",
   "metadata": {},
   "outputs": [],
   "source": [
    "def sigmoid(z):\n",
    "    return 1/(1+np.exp(-z))"
   ]
  },
  {
   "cell_type": "code",
   "execution_count": 8,
   "id": "9fdc1c85",
   "metadata": {},
   "outputs": [],
   "source": [
    "def logistic_regression(X,Y,learning_rate,iterations):\n",
    "    m,n = X.shape\n",
    "    weight = np.zeros(n)\n",
    "    bias = 0\n",
    "    \n",
    "    for i in range(iterations):\n",
    "        y_pred = sigmoid(np.dot(X, weight) + bias)\n",
    "        \n",
    "        dw = 1/m * np.dot(X.T, (y_pred - Y))\n",
    "        db = 1/m * np.sum(y_pred - Y)\n",
    "        \n",
    "        weight = weight - dw*learning_rate\n",
    "        bias = bias - db*learning_rate\n",
    "        \n",
    "    return weight, bias\n",
    "        "
   ]
  },
  {
   "cell_type": "code",
   "execution_count": 9,
   "id": "40f3bf19",
   "metadata": {},
   "outputs": [],
   "source": [
    "def accuracy(y_pred, y_actual):\n",
    "    acc = np.mean(y_pred == y_actual)*100\n",
    "    return acc"
   ]
  },
  {
   "cell_type": "code",
   "execution_count": 10,
   "id": "31bb3185",
   "metadata": {},
   "outputs": [
    {
     "name": "stdout",
     "output_type": "stream",
     "text": [
      "Calculated weights: [-5.11300389 -5.3044502  -4.95325597  0.33779717]\n",
      "Calculated bias: -1.37091532996004\n",
      "Accuracy for testing data: 98.63636363636363\n"
     ]
    }
   ],
   "source": [
    "weight, bias = logistic_regression(X_train,Y_train,0.01,50000)\n",
    "print(f\"Calculated weights: {weight}\")\n",
    "print(f\"Calculated bias: {bias}\")\n",
    "\n",
    "y_pred = sigmoid(np.dot(X_test, weight) + bias)\n",
    "y_pred_binary = (y_pred >= 0.5).astype(int)\n",
    "acc = accuracy(y_pred_binary, Y_test)\n",
    "print(f\"Accuracy for testing data: {acc}\")"
   ]
  },
  {
   "cell_type": "code",
   "execution_count": null,
   "id": "4f3bfac6",
   "metadata": {},
   "outputs": [],
   "source": []
  }
 ],
 "metadata": {
  "kernelspec": {
   "display_name": "base",
   "language": "python",
   "name": "python3"
  },
  "language_info": {
   "codemirror_mode": {
    "name": "ipython",
    "version": 3
   },
   "file_extension": ".py",
   "mimetype": "text/x-python",
   "name": "python",
   "nbconvert_exporter": "python",
   "pygments_lexer": "ipython3",
   "version": "3.12.3"
  }
 },
 "nbformat": 4,
 "nbformat_minor": 5
}
